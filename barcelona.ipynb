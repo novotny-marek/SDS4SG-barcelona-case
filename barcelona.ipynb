{
 "cells": [
  {
   "cell_type": "markdown",
   "id": "f6141d57-5e0a-4a38-a9d8-337f618d9381",
   "metadata": {},
   "source": [
    "# Barcelona test"
   ]
  },
  {
   "cell_type": "markdown",
   "id": "4590905a",
   "metadata": {},
   "source": [
    "## Preparations"
   ]
  },
  {
   "cell_type": "code",
   "execution_count": null,
   "id": "535a39cb",
   "metadata": {
    "vscode": {
     "languageId": "plaintext"
    }
   },
   "outputs": [],
   "source": [
    "import geopandas as gpd\n",
    "import matplotlib.pyplot as plt\n",
    "import esda\n",
    "from splot.esda import lisa_cluster, moran_scatterplot\n",
    "from libpysal import graph\n",
    "import numpy as np\n",
    "\n",
    "from sklearn.preprocessing import StandardScaler\n",
    "from sklearn.metrics import silhouette_score\n",
    "from sklearn import cluster"
   ]
  },
  {
   "cell_type": "code",
   "execution_count": null,
   "id": "31f49658",
   "metadata": {
    "vscode": {
     "languageId": "plaintext"
    }
   },
   "outputs": [],
   "source": [
    "link = 'https://opendata-ajuntament.barcelona.cat/data/dataset/d8e40c96-9f1f-4fd3-86da-2baa1599616d/resource/edaf6642-a51b-4b2b-a492-fa913d5e8b91/download/2021_atles_renda_bruta_llar.csv'\n",
    "gross_income = gpd.read_file(link)\n",
    "\n",
    "link1 = 'https://opendata-ajuntament.barcelona.cat/data/dataset/147d27cf-13a0-49e4-812e-1decc3cb4736/resource/2405d999-5755-462b-b1e9-7e7dafacb384/download/2021_atles_renda_mediana.csv'\n",
    "equival_income = gpd.read_file(link1)\n",
    "\n",
    "children = gpd.read_file('./data/2021_pad_dom_mdbas_edat-0018.csv')\n",
    "\n",
    "edu = gpd.read_file('./data/2021_pad_mdbas_niv-educa-esta_sexe.csv')\n",
    "\n",
    "seccio = gpd.read_file('./data/seccio_censal')"
   ]
  },
  {
   "cell_type": "markdown",
   "id": "6a4ffe4d",
   "metadata": {},
   "source": [
    "### Data Wrangling"
   ]
  },
  {
   "cell_type": "code",
   "execution_count": null,
   "id": "70f22576",
   "metadata": {
    "vscode": {
     "languageId": "plaintext"
    }
   },
   "outputs": [],
   "source": [
    "children = children.drop(\n",
    "    columns=['Data_Referencia',\n",
    "             'Codi_Barri',\n",
    "             'Nom_Barri',\n",
    "             'AEB',\n",
    "             'geometry',\n",
    "             'Nom_Districte']\n",
    "             ).rename(columns={'Codi_Districte': 'district_code',\n",
    "                               'Seccio_Censal': 'section_code',\n",
    "                               'Valor': 'households',\n",
    "                               'DOM_00_18': 'children'\n",
    "                               }\n",
    "                               )\n",
    "children['households'] = children['households'].astype(int)\n",
    "children['children'] = children['children'].astype(int)\n",
    "\n",
    "children['district_code_length'] = children['district_code'].str.len()\n",
    "children['section_code'] = children.apply(\n",
    "    lambda row: row['section_code'][row['district_code_length']:], axis=1\n",
    "    )\n",
    "children = children.drop(columns=['district_code_length'])\n",
    "\n",
    "children['section_code'] = children['section_code'].astype(int)\n",
    "children['district_code'] = children['district_code'].astype(int)\n",
    "\n",
    "children['weighted_children'] = children['children'] * children['households']\n",
    "grouped = children.groupby(['district_code', 'section_code']).agg(\n",
    "    total_households=('households', 'sum'),\n",
    "    total_weighted_children=('weighted_children', 'sum')\n",
    ")\n",
    "grouped['average_children'] =(\n",
    "    grouped['total_weighted_children'] / grouped['total_households']\n",
    "    )\n",
    "children = grouped.reset_index().drop(\n",
    "    columns=['total_weighted_children',\n",
    "             'total_households'\n",
    "             ]\n",
    "             )\n",
    "\n",
    "children.head()"
   ]
  },
  {
   "cell_type": "code",
   "execution_count": null,
   "id": "910be125",
   "metadata": {
    "vscode": {
     "languageId": "plaintext"
    }
   },
   "outputs": [],
   "source": [
    "equival_income = equival_income.drop(\n",
    "    columns=['Any', 'Codi_Barri', 'Nom_Barri', 'geometry', 'Nom_Districte']\n",
    "    ).rename(columns={'Mediana_Renda_€': 'equival_income',\n",
    "                      'Codi_Districte': 'district_code',\n",
    "                      'Seccio_Censal': 'section_code'\n",
    "                      }\n",
    "                      )\n",
    "equival_income['equival_income'] = equival_income['equival_income'].astype(int)\n",
    "equival_income['district_code'] = equival_income['district_code'].astype(int)\n",
    "equival_income['section_code'] = equival_income['section_code'].astype(int)\n",
    "equival_income.info()"
   ]
  },
  {
   "cell_type": "code",
   "execution_count": null,
   "id": "d00a81f1",
   "metadata": {
    "vscode": {
     "languageId": "plaintext"
    }
   },
   "outputs": [],
   "source": [
    "gross_income = gross_income.drop(\n",
    "    columns=['Any', 'Codi_Barri', 'Nom_Barri', 'geometry']\n",
    "    ).rename(columns={'Import_Renda_Bruta_€': 'gross_income',\n",
    "                      'Codi_Districte': 'district_code',\n",
    "                      'Nom_Districte': 'district_name',\n",
    "                      'Seccio_Censal': 'section_code',\n",
    "                      }\n",
    "                      )\n",
    "gross_income['section_code'] = gross_income['section_code'].astype(int)\n",
    "gross_income['district_code'] = gross_income['district_code'].astype(int)\n",
    "gross_income['gross_income'] = gross_income['gross_income'].astype(float)\n",
    "gross_income.info()"
   ]
  },
  {
   "cell_type": "code",
   "execution_count": null,
   "id": "1aa0234f",
   "metadata": {
    "vscode": {
     "languageId": "plaintext"
    }
   },
   "outputs": [],
   "source": [
    "edu = edu.drop(\n",
    "    columns=['Data_Referencia',\n",
    "             'Codi_Barri',\n",
    "             'Nom_Barri',\n",
    "             'AEB',\n",
    "             'geometry',\n",
    "             'Nom_Districte']\n",
    "             ).rename(columns={'Codi_Districte': 'district_code',\n",
    "                               'Seccio_Censal': 'section_code',\n",
    "                               'Valor': 'people',\n",
    "                               'NIV_EDUCA_esta': 'education_level',\n",
    "                               'SEXE': 'gender'\n",
    "                               }\n",
    "                               )\n",
    "\n",
    "edu['district_code_length'] = edu['district_code'].str.len()\n",
    "edu['section_code'] = edu.apply(\n",
    "    lambda row: row['section_code'][row['district_code_length']:], axis=1\n",
    "    )\n",
    "edu = edu.drop(columns=['district_code_length'])\n",
    "\n",
    "edu['section_code'] = edu['section_code'].astype(int)\n",
    "edu['district_code'] = edu['district_code'].astype(int)\n",
    "edu['people'] = edu['people'].replace('..', np.nan).astype(float)\n",
    "\n",
    "\n",
    "grouped = edu.groupby([\n",
    "    'district_code',\n",
    "    'section_code',\n",
    "    'education_level',\n",
    "    'gender'\n",
    "    ])['people'].sum()\n",
    "\n",
    "unstacked = grouped.unstack(level=[2, 3])\n",
    "unstacked.reset_index(inplace=True)\n",
    "unstacked.fillna(0, inplace=True)\n",
    "\n",
    "unstacked.columns = ['_'.join(col) for col in unstacked.columns.values]\n",
    "\n",
    "column_mapping = {\n",
    "    col: (\n",
    "        col.replace('_1', '_f')\n",
    "        .replace('_2', '_m')\n",
    "        .replace('district_code_', 'district_code')\n",
    "        .replace('section_code_', 'section_code')\n",
    "        .replace('1_', 'no_edu_')\n",
    "        .replace('2_', 'prim_')\n",
    "        .replace('5_', 'high_')\n",
    "        .replace('6_', 'no_data_')\n",
    "        )\n",
    "        for col in unstacked.columns\n",
    "}\n",
    "\n",
    "unstacked.rename(columns=column_mapping, inplace=True)\n",
    "\n",
    "unstacked['sec_f'] = unstacked['3_f'] + unstacked['4_f']\n",
    "unstacked['sec_m'] = unstacked['3_m'] + unstacked['4_m']\n",
    "\n",
    "unstacked = unstacked.drop(columns=['3_f', '4_f', '3_m', '4_m'])\n",
    "\n",
    "columns_to_move = ['sec_f', 'sec_m']\n",
    "new_position = 7\n",
    "\n",
    "original_columns = unstacked.columns.to_list()\n",
    "\n",
    "for column in columns_to_move:\n",
    "    original_columns.remove(column)\n",
    "\n",
    "for column in columns_to_move:\n",
    "    original_columns.insert(new_position -1, column)\n",
    "    new_position += 1\n",
    "\n",
    "edu = unstacked[original_columns]\n",
    "\n",
    "edu.head()"
   ]
  },
  {
   "cell_type": "code",
   "execution_count": null,
   "id": "7c4cd79a",
   "metadata": {
    "vscode": {
     "languageId": "plaintext"
    }
   },
   "outputs": [],
   "source": [
    "seccio = seccio[['DISTRICTE', 'SEC_CENS', 'geometry']]\n",
    "seccio = seccio.rename(columns={\n",
    "    'DISTRICTE': 'district_code',\n",
    "    'SEC_CENS': 'section_code'\n",
    "    }\n",
    "    )\n",
    "\n",
    "seccio['district_code'] = seccio['district_code'].astype(int)\n",
    "seccio['section_code'] = seccio['section_code'].astype(int)\n",
    "\n",
    "seccio.info()"
   ]
  },
  {
   "cell_type": "markdown",
   "id": "23eaa4b3",
   "metadata": {},
   "source": [
    "#### Merging"
   ]
  },
  {
   "cell_type": "code",
   "execution_count": null,
   "id": "5ce50840",
   "metadata": {
    "vscode": {
     "languageId": "plaintext"
    }
   },
   "outputs": [],
   "source": [
    "for df in [children, equival_income, gross_income, edu]:\n",
    "    seccio = seccio.merge(df, on=['district_code', 'section_code'])\n",
    "\n",
    "seccio.head()"
   ]
  },
  {
   "cell_type": "markdown",
   "id": "83afd925",
   "metadata": {},
   "source": [
    "## Exploration"
   ]
  },
  {
   "cell_type": "code",
   "execution_count": null,
   "id": "a2785914",
   "metadata": {
    "vscode": {
     "languageId": "plaintext"
    }
   },
   "outputs": [],
   "source": [
    "fig, ax = plt.subplots(1, 3, figsize=(15, 5))\n",
    "\n",
    "seccio.plot(column='average_children', ax=ax[0], legend=True, cmap='magma')\n",
    "seccio.plot(column='equival_income', ax=ax[1], legend=True, cmap='magma')\n",
    "seccio.plot(column='gross_income', ax=ax[2], legend=True, cmap='magma')\n",
    "\n",
    "ax[0].set_title('Average children per household')\n",
    "ax[1].set_title('Equivalent income')\n",
    "ax[2].set_title('Gross income')\n",
    "\n",
    "ax[0].tick_params(axis='x', rotation=45)\n",
    "ax[1].tick_params(axis='x', rotation=45)\n",
    "ax[2].tick_params(axis='x', rotation=45)\n",
    "\n",
    "plt.tight_layout()"
   ]
  },
  {
   "cell_type": "code",
   "execution_count": null,
   "id": "28091c38",
   "metadata": {
    "vscode": {
     "languageId": "plaintext"
    }
   },
   "outputs": [],
   "source": [
    "fig, ax = plt.subplots(4, 2, figsize=(10,17))\n",
    "\n",
    "seccio.plot(column='no_edu_f', ax=ax[0, 0], legend=True, cmap='magma')\n",
    "seccio.plot(column='no_edu_m', ax=ax[0, 1], legend=True, cmap='magma')\n",
    "seccio.plot(column='prim_f', ax=ax[1, 0], legend=True, cmap='magma')\n",
    "seccio.plot(column='prim_m', ax=ax[1, 1], legend=True, cmap='magma')\n",
    "seccio.plot(column='sec_f', ax=ax[2, 0], legend=True, cmap='magma')\n",
    "seccio.plot(column='sec_m', ax=ax[2, 1], legend=True, cmap='magma')\n",
    "seccio.plot(column='high_f', ax=ax[3, 0], legend=True, cmap='magma')\n",
    "seccio.plot(column='high_m', ax=ax[3, 1], legend=True, cmap='magma')\n",
    "\n",
    "ax[0, 0].set_title('No education, women')\n",
    "ax[0, 1].set_title('No education, men')\n",
    "ax[1, 0].set_title('Primary education, women')\n",
    "ax[1, 1].set_title('Primary education, men')\n",
    "ax[2, 0].set_title('Secondary education, women')\n",
    "ax[2, 1].set_title('Secondary education, men')\n",
    "ax[3, 0].set_title('Higher education, women')\n",
    "ax[3, 1].set_title('Higher education, men')\n",
    "\n",
    "ax[0, 0].tick_params(axis='x', rotation=45)\n",
    "ax[0, 1].tick_params(axis='x', rotation=45)\n",
    "ax[1, 0].tick_params(axis='x', rotation=45)\n",
    "ax[1, 1].tick_params(axis='x', rotation=45)\n",
    "ax[2, 0].tick_params(axis='x', rotation=45)\n",
    "ax[2, 1].tick_params(axis='x', rotation=45)\n",
    "ax[3, 0].tick_params(axis='x', rotation=45)\n",
    "ax[3, 1].tick_params(axis='x', rotation=45)\n",
    "\n",
    "plt.tight_layout()"
   ]
  },
  {
   "cell_type": "markdown",
   "id": "51c020a6",
   "metadata": {},
   "source": [
    "### LISA"
   ]
  },
  {
   "cell_type": "code",
   "execution_count": null,
   "id": "ac5ceb1d",
   "metadata": {
    "vscode": {
     "languageId": "plaintext"
    }
   },
   "outputs": [],
   "source": [
    "contiguity = graph.Graph.build_contiguity(seccio, rook=False)\n",
    "contiguity_r = contiguity.transform(\"r\")\n",
    "\n",
    "lisa = esda.Moran_Local(seccio['gross_income'], contiguity_r.to_W())"
   ]
  },
  {
   "cell_type": "code",
   "execution_count": null,
   "id": "03e024e1",
   "metadata": {
    "vscode": {
     "languageId": "plaintext"
    }
   },
   "outputs": [],
   "source": [
    "_ = lisa_cluster(lisa, seccio)"
   ]
  },
  {
   "cell_type": "code",
   "execution_count": null,
   "id": "08cb401e",
   "metadata": {
    "vscode": {
     "languageId": "plaintext"
    }
   },
   "outputs": [],
   "source": [
    "_ = moran_scatterplot(lisa, p=0.05, scatter_kwds={\"s\": 5, \"alpha\":.2})"
   ]
  },
  {
   "cell_type": "markdown",
   "id": "cec66110",
   "metadata": {},
   "source": [
    "## Clustering"
   ]
  },
  {
   "cell_type": "markdown",
   "id": "220d5c9c",
   "metadata": {},
   "source": [
    "### Preparation"
   ]
  },
  {
   "cell_type": "code",
   "execution_count": null,
   "id": "00b2861d",
   "metadata": {
    "vscode": {
     "languageId": "plaintext"
    }
   },
   "outputs": [],
   "source": [
    "subranks = [\n",
    "    'average_children', 'gross_income',\n",
    "    'high_f', 'sec_f', 'prim_f', 'no_edu_f',\n",
    "    ]\n",
    "\n",
    "scaler = StandardScaler()\n",
    "data_scaled = scaler.fit_transform(seccio[subranks])\n",
    "\n",
    "scores = []\n",
    "for k in range(2, 11):\n",
    "    kmeans = cluster.KMeans(n_clusters=k)\n",
    "    kmeans.fit(data_scaled)\n",
    "    scores.append(silhouette_score(data_scaled, kmeans.labels_))\n",
    "\n",
    "optimal_clusters = scores.index(max(scores)) + 2\n",
    "\n",
    "plt.plot(range(2, 11), scores)\n",
    "plt.title('Silhouette Score vs Number of Clusters')\n",
    "plt.xlabel('Number of Clusters')\n",
    "plt.ylabel('Silhouette Score')\n",
    "plt.show()"
   ]
  },
  {
   "cell_type": "markdown",
   "id": "429779ce",
   "metadata": {},
   "source": [
    "#### KMeans"
   ]
  },
  {
   "cell_type": "code",
   "execution_count": null,
   "id": "d9ad264d",
   "metadata": {
    "vscode": {
     "languageId": "plaintext"
    }
   },
   "outputs": [],
   "source": [
    "kmeans3 = cluster.KMeans(n_clusters=optimal_clusters, random_state=42)\n",
    "kmeans3.fit(seccio[subranks])\n",
    "seccio['kmeans3'] = kmeans3.labels_"
   ]
  },
  {
   "cell_type": "markdown",
   "id": "f958b3c7",
   "metadata": {},
   "source": [
    "#### Spatially-lagged cluster"
   ]
  },
  {
   "cell_type": "code",
   "execution_count": null,
   "id": "d5f952fa",
   "metadata": {
    "vscode": {
     "languageId": "plaintext"
    }
   },
   "outputs": [],
   "source": [
    "queen = graph.Graph.build_contiguity(seccio)\n",
    "queen_r = queen.transform(\"r\")\n",
    "\n",
    "for column in subranks:\n",
    "    seccio[column + \"_lag\"] = queen_r.lag(seccio[column])\n",
    "\n",
    "subranks_lag = [column + \"_lag\" for column in subranks]\n",
    "subranks_spatial = subranks + subranks_lag\n",
    "\n",
    "kmeans3_lag = cluster.KMeans(n_clusters=3, random_state=42)\n",
    "kmeans3_lag.fit(seccio[subranks_spatial])\n",
    "seccio['kmeans3_lag'] = kmeans3_lag.labels_"
   ]
  },
  {
   "cell_type": "markdown",
   "id": "03c992c8",
   "metadata": {},
   "source": [
    "#### Regionalisation"
   ]
  },
  {
   "cell_type": "code",
   "execution_count": null,
   "id": "1cf41d83",
   "metadata": {
    "vscode": {
     "languageId": "plaintext"
    }
   },
   "outputs": [],
   "source": [
    "agg3 = cluster.AgglomerativeClustering(n_clusters=3, connectivity=queen.sparse)\n",
    "agg3.fit(seccio[subranks])\n",
    "seccio['agg3'] = agg3.labels_"
   ]
  },
  {
   "cell_type": "markdown",
   "id": "a66ab244",
   "metadata": {},
   "source": [
    "### Visualisation"
   ]
  },
  {
   "cell_type": "code",
   "execution_count": null,
   "id": "cf994fae",
   "metadata": {
    "vscode": {
     "languageId": "plaintext"
    }
   },
   "outputs": [],
   "source": [
    "fig, ax = plt.subplots(1, 3, figsize=(10, 18))\n",
    "seccio.plot(column='kmeans3', ax=ax[0], legend=True, categorical=True, cmap='tab20b')\n",
    "seccio.plot(column='kmeans3_lag', ax=ax[1], legend=True, categorical=True, cmap='tab20b')\n",
    "seccio.plot(column='agg3', ax=ax[2], legend=True, categorical=True, cmap='tab20b')\n",
    "\n",
    "ax[0].set_title('kmeans3')\n",
    "ax[1].set_title('kmeans3_lag')\n",
    "ax[2].set_title('agg3')\n",
    "\n",
    "ax[0].tick_params(axis='x', rotation=45)\n",
    "ax[1].tick_params(axis='x', rotation=45)\n",
    "ax[2].tick_params(axis='x', rotation=45)\n",
    "plt.tight_layout()\n",
    "plt.show()"
   ]
  }
 ],
 "metadata": {
  "kernelspec": {
   "display_name": "Python 3 (ipykernel)",
   "language": "python",
   "name": "python3"
  },
  "language_info": {
   "codemirror_mode": {
    "name": "ipython",
    "version": 3
   },
   "file_extension": ".py",
   "mimetype": "text/x-python",
   "name": "python",
   "nbconvert_exporter": "python",
   "pygments_lexer": "ipython3",
   "version": "3.11.6"
  }
 },
 "nbformat": 4,
 "nbformat_minor": 5
}
